{
 "cells": [
  {
   "cell_type": "code",
   "execution_count": 3,
   "id": "625a5e09",
   "metadata": {},
   "outputs": [],
   "source": [
    "# Step 1: Import Libraries\n",
    "import pandas as pd\n",
    "import numpy as np\n",
    "import seaborn as sns\n",
    "import matplotlib.pyplot as plt\n",
    "import plotly.express as px\n",
    "import folium\n",
    "from statsmodels.formula.api import ols"
   ]
  },
  {
   "cell_type": "code",
   "execution_count": 4,
   "id": "67f0fc3a",
   "metadata": {},
   "outputs": [],
   "source": [
    "# Step 2: Load Datasets\n",
    "covid_mobility = pd.read_csv(r\"C:\\Users\\bunny\\Downloads\\archive (1)\\community_dataset_with_infection_count.csv\")\n",
    "gdp = pd.read_csv(r\"C:\\Users\\bunny\\Downloads\\archive (2)\\Per Capita GDP of All Countries 1970 to 2022.csv\")"
   ]
  },
  {
   "cell_type": "code",
   "execution_count": 5,
   "id": "5b767179",
   "metadata": {},
   "outputs": [],
   "source": [
    "# Step 3: Data Cleaning\n",
    "\n",
    "# Convert date\n",
    "covid_mobility['DATE_VAL'] = pd.to_datetime(covid_mobility['DATE_VAL'], format='%d-%m-%y', errors='coerce')\n",
    "\n",
    "# Keep relevant columns\n",
    "covid_mobility = covid_mobility[['COUNTRY_REGION','DATE_VAL','RETAIL_AND_RECREATION_PCT','WORKPLACES_PCT','RESIDENTIAL_PCT','COVID_CONFIRMED','COVID_DEATHS']]\n",
    "\n",
    "# Compute average mobility decline per country (2020)\n",
    "mobility_2020 = covid_mobility[covid_mobility['DATE_VAL'].dt.year==2020]\n",
    "mobility_summary = mobility_2020.groupby('COUNTRY_REGION').agg({\n",
    "    'RETAIL_AND_RECREATION_PCT':'mean',\n",
    "    'WORKPLACES_PCT':'mean',\n",
    "    'RESIDENTIAL_PCT':'mean'\n",
    "}).reset_index()\n",
    "mobility_summary['avg_mobility_decline'] = mobility_summary[['RETAIL_AND_RECREATION_PCT','WORKPLACES_PCT']].mean(axis=1)\n",
    "\n",
    "# GDP contraction from 2019 → 2020\n",
    "gdp_latest = gdp[['Country','2019','2020']].dropna()\n",
    "gdp_latest['GDP_change_pct'] = ((gdp_latest['2020'] - gdp_latest['2019'])/gdp_latest['2019'])*100\n"
   ]
  },
  {
   "cell_type": "code",
   "execution_count": 6,
   "id": "bb236a9f",
   "metadata": {},
   "outputs": [],
   "source": [
    "# Step 4: Merge Mobility & GDP Data\n",
    "merged = pd.merge(mobility_summary, gdp_latest, left_on='COUNTRY_REGION', right_on='Country', how='inner')"
   ]
  },
  {
   "cell_type": "code",
   "execution_count": 8,
   "id": "8d6b813f",
   "metadata": {},
   "outputs": [
    {
     "name": "stdout",
     "output_type": "stream",
     "text": [
      "Correlation between mobility decline and GDP contraction:\n",
      "                      avg_mobility_decline  GDP_change_pct\n",
      "avg_mobility_decline              1.000000        0.090442\n",
      "GDP_change_pct                    0.090442        1.000000\n",
      "                            OLS Regression Results                            \n",
      "==============================================================================\n",
      "Dep. Variable:         GDP_change_pct   R-squared:                       0.008\n",
      "Model:                            OLS   Adj. R-squared:                 -0.002\n",
      "Method:                 Least Squares   F-statistic:                    0.8000\n",
      "Date:                Mon, 28 Jul 2025   Prob (F-statistic):              0.373\n",
      "Time:                        05:37:00   Log-Likelihood:                -357.36\n",
      "No. Observations:                  99   AIC:                             718.7\n",
      "Df Residuals:                      97   BIC:                             723.9\n",
      "Df Model:                           1                                         \n",
      "Covariance Type:            nonrobust                                         \n",
      "========================================================================================\n",
      "                           coef    std err          t      P>|t|      [0.025      0.975]\n",
      "----------------------------------------------------------------------------------------\n",
      "Intercept               -4.9841      2.261     -2.204      0.030      -9.472      -0.496\n",
      "avg_mobility_decline     0.0862      0.096      0.894      0.373      -0.105       0.277\n",
      "==============================================================================\n",
      "Omnibus:                        9.242   Durbin-Watson:                   1.880\n",
      "Prob(Omnibus):                  0.010   Jarque-Bera (JB):                9.852\n",
      "Skew:                          -0.572   Prob(JB):                      0.00726\n",
      "Kurtosis:                       4.040   Cond. No.                         58.5\n",
      "==============================================================================\n",
      "\n",
      "Notes:\n",
      "[1] Standard Errors assume that the covariance matrix of the errors is correctly specified.\n"
     ]
    }
   ],
   "source": [
    "# tep 5: Correlation & Regression\n",
    "print(\"Correlation between mobility decline and GDP contraction:\")\n",
    "print(merged[['avg_mobility_decline','GDP_change_pct']].corr())\n",
    "\n",
    "model = ols('GDP_change_pct ~ avg_mobility_decline', data=merged).fit()\n",
    "print(model.summary())"
   ]
  },
  {
   "cell_type": "code",
   "execution_count": null,
   "id": "5937b56a",
   "metadata": {},
   "outputs": [],
   "source": [
    "# Step 6: Visualizations\n",
    "# Scatter plot with regression line\n",
    "fig = px.scatter(merged, x='avg_mobility_decline', y='GDP_change_pct', text='Country', trendline='ols',\n",
    "                 title='GDP Contraction vs Mobility Decline (2020)')\n",
    "fig.update_traces(textposition='top center')\n",
    "fig.show()\n",
    "\n",
    "# Time-series example for one country\n",
    "usa_trend = covid_mobility[covid_mobility['COUNTRY_REGION']=='United States']\n",
    "fig2 = px.line(usa_trend, x='DATE_VAL', y='RETAIL_AND_RECREATION_PCT',\n",
    "               title='US Retail Mobility Trend (2020)')\n",
    "fig2.show()"
   ]
  }
 ],
 "metadata": {
  "kernelspec": {
   "display_name": "Python 3 (ipykernel)",
   "language": "python",
   "name": "python3"
  },
  "language_info": {
   "codemirror_mode": {
    "name": "ipython",
    "version": 3
   },
   "file_extension": ".py",
   "mimetype": "text/x-python",
   "name": "python",
   "nbconvert_exporter": "python",
   "pygments_lexer": "ipython3",
   "version": "3.11.5"
  }
 },
 "nbformat": 4,
 "nbformat_minor": 5
}
